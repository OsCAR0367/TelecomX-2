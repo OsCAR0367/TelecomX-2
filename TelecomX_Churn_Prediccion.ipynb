{
 "cells": [
  {
   "cell_type": "markdown",
   "id": "261c1267",
   "metadata": {},
   "source": [
    "# Telecom X – Predicción de Cancelación (Churn)\n",
    "\n",
    "## Desafío de Machine Learning\n",
    "\n",
    "En este notebook se desarrolla un pipeline completo para predecir la cancelación de clientes (churn) en Telecom X. Se incluyen: generación de datos sintéticos, análisis exploratorio, preprocesamiento, entrenamiento de modelos, evaluación, interpretación y conclusiones estratégicas."
   ]
  },
  {
   "cell_type": "markdown",
   "id": "65178ae7",
   "metadata": {},
   "source": [
    "## 1. Importar librerías necesarias\n",
    "\n",
    "Importamos las librerías requeridas para análisis de datos, visualización y machine learning."
   ]
  },
  {
   "cell_type": "code",
   "execution_count": null,
   "id": "ee0fed20",
   "metadata": {},
   "outputs": [],
   "source": [
    "# Importar librerías necesarias\n",
    "import numpy as np\n",
    "import pandas as pd\n",
    "import matplotlib.pyplot as plt\n",
    "import seaborn as sns\n",
    "from sklearn.model_selection import train_test_split\n",
    "from sklearn.preprocessing import StandardScaler\n",
    "from sklearn.linear_model import LogisticRegression\n",
    "from sklearn.ensemble import RandomForestClassifier\n",
    "from sklearn.metrics import classification_report, confusion_matrix, roc_auc_score, roc_curve\n",
    "import warnings\n",
    "warnings.filterwarnings('ignore')"
   ]
  },
  {
   "cell_type": "markdown",
   "id": "93be1a75",
   "metadata": {},
   "source": [
    "## 2. Crear y explorar los datos sintéticos\n",
    "\n",
    "Generamos un conjunto de datos sintéticos que simula características relevantes de clientes de una empresa de telecomunicaciones y la variable objetivo de cancelación (churn)."
   ]
  },
  {
   "cell_type": "code",
   "execution_count": null,
   "id": "9684f367",
   "metadata": {},
   "outputs": [],
   "source": [
    "# Crear datos sintéticos\n",
    "np.random.seed(42)\n",
    "n = 2000\n",
    "\n",
    "df = pd.DataFrame({\n",
    "    'Edad': np.random.randint(18, 80, n),\n",
    "    'Antiguedad_meses': np.random.randint(1, 72, n),\n",
    "    'Plan': np.random.choice(['Básico', 'Estándar', 'Premium'], n, p=[0.5, 0.3, 0.2]),\n",
    "    'Soporte_llamadas': np.random.poisson(2, n),\n",
    "    'Facturacion_mensual': np.random.normal(50, 15, n).clip(20, 150),\n",
    "    'Pagos_atrasados': np.random.binomial(1, 0.15, n),\n",
    "    'Uso_datos_GB': np.random.normal(10, 3, n).clip(1, 30)\n",
    "})\n",
    "# Generar churn con cierta lógica\n",
    "prob_churn = (\n",
    "    0.15 +\n",
    "    0.15 * (df['Plan'] == 'Básico').astype(int) +\n",
    "    0.10 * (df['Pagos_atrasados']) +\n",
    "    0.10 * (df['Soporte_llamadas'] > 3).astype(int) +\n",
    "    0.10 * (df['Antiguedad_meses'] < 12).astype(int)\n",
    ")\n",
    "df['Churn'] = np.random.binomial(1, prob_churn.clip(0, 0.7))\n",
    "df.head()"
   ]
  },
  {
   "cell_type": "markdown",
   "id": "1d77817a",
   "metadata": {},
   "source": [
    "## 3. Análisis exploratorio de datos\n",
    "\n",
    "Exploramos la estadística descriptiva y visualizamos la distribución de las variables y la relación con la variable objetivo (churn)."
   ]
  },
  {
   "cell_type": "code",
   "execution_count": null,
   "id": "e39da616",
   "metadata": {},
   "outputs": [],
   "source": [
    "# Estadística descriptiva\n",
    "print('Resumen estadístico:')\n",
    "display(df.describe(include='all'))\n",
    "\n",
    "# Distribución de la variable objetivo\n",
    "sns.countplot(x='Churn', data=df)\n",
    "plt.title('Distribución de Cancelación (Churn)')\n",
    "plt.show()\n",
    "\n",
    "# Histogramas de variables numéricas\n",
    "num_cols = ['Edad', 'Antiguedad_meses', 'Facturacion_mensual', 'Uso_datos_GB']\n",
    "df[num_cols].hist(bins=20, figsize=(10,6))\n",
    "plt.tight_layout()\n",
    "plt.show()\n",
    "\n",
    "# Relación entre variables y churn\n",
    "for col in num_cols:\n",
    "    plt.figure(figsize=(5,3))\n",
    "    sns.boxplot(x='Churn', y=col, data=df)\n",
    "    plt.title(f'{col} vs Churn')\n",
    "    plt.show()"
   ]
  },
  {
   "cell_type": "markdown",
   "id": "c2c33b13",
   "metadata": {},
   "source": [
    "## 4. Preparar los datos para el modelo\n",
    "\n",
    "Realizamos codificación de variables categóricas, normalización y división en conjuntos de entrenamiento y prueba."
   ]
  },
  {
   "cell_type": "code",
   "execution_count": null,
   "id": "1e38bf0f",
   "metadata": {},
   "outputs": [],
   "source": [
    "# Codificación de variables categóricas\n",
    "df_encoded = pd.get_dummies(df, columns=['Plan'], drop_first=True)\n",
    "\n",
    "# Separar variables predictoras y objetivo\n",
    "X = df_encoded.drop('Churn', axis=1)\n",
    "y = df_encoded['Churn']\n",
    "\n",
    "# División en entrenamiento y prueba\n",
    "X_train, X_test, y_train, y_test = train_test_split(X, y, test_size=0.25, random_state=42, stratify=y)\n",
    "\n",
    "# Normalización de variables numéricas\n",
    "scaler = StandardScaler()\n",
    "num_cols = ['Edad', 'Antiguedad_meses', 'Facturacion_mensual', 'Uso_datos_GB', 'Soporte_llamadas']\n",
    "X_train[num_cols] = scaler.fit_transform(X_train[num_cols])\n",
    "X_test[num_cols] = scaler.transform(X_test[num_cols])\n",
    "\n",
    "X_train.head()"
   ]
  },
  {
   "cell_type": "markdown",
   "id": "5a4ed92c",
   "metadata": {},
   "source": [
    "## 5. Entrenar modelos de clasificación\n",
    "\n",
    "Entrenamos dos modelos: Regresión Logística y Random Forest para predecir la cancelación de clientes."
   ]
  },
  {
   "cell_type": "code",
   "execution_count": null,
   "id": "267fd7dd",
   "metadata": {},
   "outputs": [],
   "source": [
    "# Entrenar Regresión Logística\n",
    "logreg = LogisticRegression()\n",
    "logreg.fit(X_train, y_train)\n",
    "\n",
    "# Entrenar Random Forest\n",
    "rf = RandomForestClassifier(n_estimators=100, random_state=42)\n",
    "rf.fit(X_train, y_train)"
   ]
  },
  {
   "cell_type": "markdown",
   "id": "532e5661",
   "metadata": {},
   "source": [
    "## 6. Evaluar el modelo\n",
    "\n",
    "Evaluamos el desempeño de ambos modelos usando métricas de clasificación: accuracy, matriz de confusión, reporte de clasificación y AUC-ROC."
   ]
  },
  {
   "cell_type": "code",
   "execution_count": null,
   "id": "871269d8",
   "metadata": {},
   "outputs": [],
   "source": [
    "# Predicciones\n",
    "logreg_pred = logreg.predict(X_test)\n",
    "rf_pred = rf.predict(X_test)\n",
    "logreg_proba = logreg.predict_proba(X_test)[:,1]\n",
    "rf_proba = rf.predict_proba(X_test)[:,1]\n",
    "\n",
    "# Métricas\n",
    "print('--- Regresión Logística ---')\n",
    "print(classification_report(y_test, logreg_pred))\n",
    "print('AUC-ROC:', roc_auc_score(y_test, logreg_proba))\n",
    "print('\\nMatriz de confusión:')\n",
    "print(confusion_matrix(y_test, logreg_pred))\n",
    "\n",
    "print('\\n--- Random Forest ---')\n",
    "print(classification_report(y_test, rf_pred))\n",
    "print('AUC-ROC:', roc_auc_score(y_test, rf_proba))\n",
    "print('\\nMatriz de confusión:')\n",
    "print(confusion_matrix(y_test, rf_pred))"
   ]
  },
  {
   "cell_type": "markdown",
   "id": "1186eaae",
   "metadata": {},
   "source": [
    "## 7. Visualizar resultados\n",
    "\n",
    "Graficamos la curva ROC y la importancia de variables para interpretar los resultados y los factores que más influyen en la cancelación."
   ]
  },
  {
   "cell_type": "code",
   "execution_count": null,
   "id": "fab18eab",
   "metadata": {},
   "outputs": [],
   "source": [
    "# Curva ROC\n",
    "fpr_log, tpr_log, _ = roc_curve(y_test, logreg_proba)\n",
    "fpr_rf, tpr_rf, _ = roc_curve(y_test, rf_proba)\n",
    "plt.figure(figsize=(7,5))\n",
    "plt.plot(fpr_log, tpr_log, label='Regresión Logística')\n",
    "plt.plot(fpr_rf, tpr_rf, label='Random Forest')\n",
    "plt.plot([0,1],[0,1],'k--')\n",
    "plt.xlabel('Falso Positivo')\n",
    "plt.ylabel('Verdadero Positivo')\n",
    "plt.title('Curva ROC')\n",
    "plt.legend()\n",
    "plt.show()\n",
    "\n",
    "# Importancia de variables (Random Forest)\n",
    "importancias = pd.Series(rf.feature_importances_, index=X_train.columns).sort_values(ascending=False)\n",
    "plt.figure(figsize=(8,4))\n",
    "importancias.head(10).plot(kind='bar')\n",
    "plt.title('Importancia de variables (Random Forest)')\n",
    "plt.show()"
   ]
  },
  {
   "cell_type": "markdown",
   "id": "cf3e06e6",
   "metadata": {},
   "source": [
    "## 8. Conclusión estratégica\n",
    "\n",
    "**Conclusiones:**\n",
    "\n",
    "- Ambos modelos (Regresión Logística y Random Forest) logran predecir la cancelación de clientes con buen desempeño.\n",
    "- Las variables más influyentes en la cancelación son: tipo de plan, pagos atrasados, antigüedad baja y alto uso de soporte.\n",
    "- Se recomienda enfocar estrategias de retención en clientes con plan básico, poca antigüedad y antecedentes de pagos atrasados.\n",
    "\n",
    "**Siguiente paso:** Profundizar en el análisis de segmentos y personalizar ofertas para reducir el churn."
   ]
  }
 ],
 "metadata": {
  "language_info": {
   "name": "python"
  }
 },
 "nbformat": 4,
 "nbformat_minor": 5
}
